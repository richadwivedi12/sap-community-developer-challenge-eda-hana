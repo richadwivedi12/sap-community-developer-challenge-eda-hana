{
 "cells": [
  {
   "attachments": {},
   "cell_type": "markdown",
   "id": "51185e33-47ce-455b-b392-531cbf1b93fa",
   "metadata": {},
   "source": [
    "## Welcome to Week 2"
   ]
  },
  {
   "attachments": {},
   "cell_type": "markdown",
   "id": "8fe13522-e219-417d-915f-93612d450b40",
   "metadata": {},
   "source": [
    "\n",
    "This is a notebook for the Week 2 of the Developer Challenge: https://blogs.sap.com/2023/03/08/sap-community-developer-challenge-eda-with-sap-hana-and-python/"
   ]
  },
  {
   "attachments": {},
   "cell_type": "markdown",
   "id": "7fb31a18-42cd-4929-9e33-ac6c2713ae36",
   "metadata": {},
   "source": [
    "### Initialize the notebook\n",
    "\n",
    "Import required packages"
   ]
  },
  {
   "cell_type": "code",
   "execution_count": 153,
   "id": "524e1912-75f4-4914-83b1-f4dbcfdb27f4",
   "metadata": {},
   "outputs": [],
   "source": [
    "from hana_ml import dataframe as hdf\n",
    "import pandas as pd\n"
   ]
  },
  {
   "attachments": {},
   "cell_type": "markdown",
   "id": "d10707dd-87c9-4012-835b-c3b07260ed4d",
   "metadata": {},
   "source": [
    "Connecting to SAP HANA database instance with a database user, same as during Week 1!"
   ]
  },
  {
   "cell_type": "code",
   "execution_count": 154,
   "id": "675fa598-247a-4854-a150-110d3f93d597",
   "metadata": {},
   "outputs": [
    {
     "name": "stdout",
     "output_type": "stream",
     "text": [
      "SAP HANA DB version:  4.00.000.00.1679387658 (fa/CE2022.42)\n"
     ]
    }
   ],
   "source": [
    "myconn = hdf.ConnectionContext(userkey='DevChallenger')\n",
    "print(\"SAP HANA DB version: \", myconn.hana_version())\n"
   ]
  },
  {
   "cell_type": "code",
   "execution_count": 155,
   "id": "5e8916a1-6265-41bc-9e34-90756238d64e",
   "metadata": {},
   "outputs": [
    {
     "name": "stdout",
     "output_type": "stream",
     "text": [
      "2023-03-30 14:55:23.465000\n"
     ]
    }
   ],
   "source": [
    "print(myconn.sql(\"SELECT NOW() FROM DUMMY\").collect().CURRENT_TIMESTAMP[0])\n"
   ]
  },
  {
   "attachments": {},
   "cell_type": "markdown",
   "id": "3d0bac54",
   "metadata": {},
   "source": [
    "# Working with SAP HANA tables in a Python client \n",
    "\n",
    "Below we will find two approaches creating tables, populating them with data and retrieving this data from Python:\n",
    "1. Compatible with Python standard proposal PEP 249 using SQL\n",
    "2. Using HANA DataFrame abstract from `hana_ml`"
   ]
  },
  {
   "attachments": {},
   "cell_type": "markdown",
   "id": "08e5a353",
   "metadata": {},
   "source": [
    "## 1. Approach compatible with Python proposal PEP 249 using SQL\n",
    "\n",
    "References:\n",
    "1. https://peps.python.org/pep-0249/#connection-objects\n",
    "2. https://help.sap.com/docs/SAP_HANA_CLIENT/f1b440ded6144a54ada97ff95dac7adf/3b5ebe388c1040ec83617c9e511ecda5.html?version=2.15&locale=en-US"
   ]
  },
  {
   "attachments": {},
   "cell_type": "markdown",
   "id": "bd660680",
   "metadata": {},
   "source": [
    "\n",
    "Let's open a [cursor](https://help.sap.com/docs/SAP_HANA_CLIENT/f1b440ded6144a54ada97ff95dac7adf/d0c010fa5c4e4e4cba7b791cd1c9479b.html?version=2.15&locale=en-US) called `mycursor` to be used for the fetch operations."
   ]
  },
  {
   "cell_type": "markdown",
   "id": "2e5ec96c",
   "metadata": {},
   "source": []
  },
  {
   "cell_type": "code",
   "execution_count": 156,
   "id": "df4bf8ec",
   "metadata": {},
   "outputs": [],
   "source": [
    "mycursor = myconn.connection.cursor()\n"
   ]
  },
  {
   "cell_type": "markdown",
   "id": "12618eb5-0ad1-4f6e-90a5-e4d1af2386e3",
   "metadata": {},
   "source": [
    "[Execute an SQL statement](https://help.sap.com/docs/SAP_HANA_CLIENT/f1b440ded6144a54ada97ff95dac7adf/3b89755ceec042e5919313b40acf8794.html?version=2.15&locale=en-US) to create a table `SEASONS` in the database."
   ]
  },
  {
   "cell_type": "code",
   "execution_count": 157,
   "id": "fc00d4d8",
   "metadata": {},
   "outputs": [
    {
     "data": {
      "text/plain": [
       "True"
      ]
     },
     "execution_count": 157,
     "metadata": {},
     "output_type": "execute_result"
    }
   ],
   "source": [
    "# uncomment to drop the table, if already exists\n",
    "mycursor.execute('DROP TABLE \"SEASONS\"')\n",
    "\n",
    "mycursor.execute('''\n",
    "CREATE TABLE \"SEASONS\" (\n",
    "  \"ID\" INT PRIMARY KEY, \n",
    "  \"DESC\" VARCHAR(12)\n",
    ")\n",
    "''')\n"
   ]
  },
  {
   "attachments": {},
   "cell_type": "markdown",
   "id": "5b8f9deb-d65e-4db3-8831-89c86cacb838",
   "metadata": {},
   "source": [
    "Use [SQL statement to insert multiple records](https://help.sap.com/docs/SAP_HANA_CLIENT/f1b440ded6144a54ada97ff95dac7adf/15e46b843c8045ec854d6375790cd504.html?version=2.15&locale=en-US) into the table `SEASONS`."
   ]
  },
  {
   "cell_type": "code",
   "execution_count": 158,
   "id": "d4f7a944",
   "metadata": {},
   "outputs": [
    {
     "name": "stdout",
     "output_type": "stream",
     "text": [
      "Records inserted:  4\n"
     ]
    }
   ],
   "source": [
    "mycursor.execute('TRUNCATE TABLE \"SEASONS\"')\n",
    "records_inserted = mycursor.executemany(operation='INSERT INTO \"SEASONS\" (\"ID\", \"DESC\") VALUES (?, ?)',\n",
    "                                        list_of_parameters=((1, \"WINTER\"),\n",
    "                                                            (2, \"SPRING\"),\n",
    "                                                            (3, \"SUMMER\"),\n",
    "                                                            (4, \"FALL\"))\n",
    "                                        )\n",
    "print(\"Records inserted: \", sum(records_inserted))\n"
   ]
  },
  {
   "cell_type": "code",
   "execution_count": 159,
   "id": "72e3ba1f",
   "metadata": {},
   "outputs": [
    {
     "name": "stdout",
     "output_type": "stream",
     "text": [
      "the first record (1, 'WINTER')\n",
      "the second record (2, 'SPRING')\n",
      "the rest of records [(3, 'SUMMER'), (4, 'FALL')]\n"
     ]
    }
   ],
   "source": [
    "mycursor.execute('SELECT * FROM \"SEASONS\"')\n",
    "\n",
    "# Get the first record\n",
    "result = mycursor.fetchone()\n",
    "print(\"the first record\", result)\n",
    "\n",
    "# Get the second record\n",
    "result = mycursor.fetchone()\n",
    "print(\"the second record\", result)\n",
    "\n",
    "# Get the rest of records\n",
    "result = mycursor.fetchall()\n",
    "print(\"the rest of records\", result)\n"
   ]
  },
  {
   "cell_type": "code",
   "execution_count": 160,
   "id": "2766457d",
   "metadata": {},
   "outputs": [
    {
     "name": "stdout",
     "output_type": "stream",
     "text": [
      "Current database schema: DEVCHALLENGER\n"
     ]
    }
   ],
   "source": [
    "print(f\"Current database schema: {myconn.get_current_schema()}\")\n"
   ]
  },
  {
   "cell_type": "code",
   "execution_count": 161,
   "id": "5a72ce70",
   "metadata": {},
   "outputs": [
    {
     "name": "stdout",
     "output_type": "stream",
     "text": [
      "3 table(s) in the schema DEVCHALLENGER: ['BIKES', 'SEASONS', 'MONTHS']\n"
     ]
    }
   ],
   "source": [
    "mycursor.execute(f'''\n",
    "SELECT TABLE_NAME\n",
    "FROM M_TABLES\n",
    "WHERE SCHEMA_NAME='{myconn.get_current_schema()}'\n",
    "''')\n",
    "\n",
    "# Get all records\n",
    "result = mycursor.fetchall()\n",
    "print(\n",
    "    f\"{len(result)} table(s) in the schema {myconn.get_current_schema()}: {[x[0] for x in result]}\")\n"
   ]
  },
  {
   "attachments": {},
   "cell_type": "markdown",
   "id": "e706443a",
   "metadata": {},
   "source": [
    "# 2. `hana-ml` approach using interoperability between Pandas DataFrames and HANA DataFrames\n",
    "\n",
    "References:\n",
    "1. https://help.sap.com/doc/cd94b08fe2e041c2ba778374572ddba9/2022_4_QRC/en-US/hana_ml.html#sap-hana-dataframe\n",
    "1. https://pandas.pydata.org/docs/reference/api/pandas.DataFrame.html"
   ]
  },
  {
   "attachments": {},
   "cell_type": "markdown",
   "id": "f87aa242",
   "metadata": {},
   "source": [
    "Create a table `MONTHS` in the current database schema.\n",
    "\n",
    "But this time using [`create_table()` method](https://help.sap.com/doc/cd94b08fe2e041c2ba778374572ddba9/2022_4_QRC/en-US/hana_ml.dataframe.html#hana_ml.dataframe.ConnectionContext.create_table) from `hana_ml`."
   ]
  },
  {
   "cell_type": "code",
   "execution_count": 162,
   "id": "13949066",
   "metadata": {},
   "outputs": [],
   "source": [
    "myconn.drop_table(\"MONTHS\")\n",
    "myconn.create_table(\"MONTHS\",\n",
    "                    table_structure={\n",
    "                        \"ID\": \"INT\",\n",
    "                        \"DESC\": \"VARCHAR(10)\"\n",
    "                    }\n",
    "                    )\n"
   ]
  },
  {
   "cell_type": "code",
   "execution_count": 163,
   "id": "e6d6d374",
   "metadata": {},
   "outputs": [
    {
     "data": {
      "text/html": [
       "<div>\n",
       "<style scoped>\n",
       "    .dataframe tbody tr th:only-of-type {\n",
       "        vertical-align: middle;\n",
       "    }\n",
       "\n",
       "    .dataframe tbody tr th {\n",
       "        vertical-align: top;\n",
       "    }\n",
       "\n",
       "    .dataframe thead th {\n",
       "        text-align: right;\n",
       "    }\n",
       "</style>\n",
       "<table border=\"1\" class=\"dataframe\">\n",
       "  <thead>\n",
       "    <tr style=\"text-align: right;\">\n",
       "      <th></th>\n",
       "      <th>TABLE_NAME</th>\n",
       "    </tr>\n",
       "  </thead>\n",
       "  <tbody>\n",
       "    <tr>\n",
       "      <th>0</th>\n",
       "      <td>BIKES</td>\n",
       "    </tr>\n",
       "    <tr>\n",
       "      <th>1</th>\n",
       "      <td>SEASONS</td>\n",
       "    </tr>\n",
       "    <tr>\n",
       "      <th>2</th>\n",
       "      <td>MONTHS</td>\n",
       "    </tr>\n",
       "  </tbody>\n",
       "</table>\n",
       "</div>"
      ],
      "text/plain": [
       "  TABLE_NAME\n",
       "0      BIKES\n",
       "1    SEASONS\n",
       "2     MONTHS"
      ]
     },
     "execution_count": 163,
     "metadata": {},
     "output_type": "execute_result"
    }
   ],
   "source": [
    "myconn.get_tables()\n"
   ]
  },
  {
   "cell_type": "code",
   "execution_count": 164,
   "id": "889b25d7",
   "metadata": {},
   "outputs": [],
   "source": [
    "months_df = pd.DataFrame(\n",
    "    {\"ID\": range(1, 13),\n",
    "     \"DESC\": ['JAN', 'FEB', 'MAR', 'APR', 'MAY', 'JUN', 'JUL', 'AUG', 'SEP', 'OCT', 'NOV', 'DEC']\n",
    "     })\n"
   ]
  },
  {
   "cell_type": "code",
   "execution_count": 165,
   "id": "74d4dd7d",
   "metadata": {},
   "outputs": [
    {
     "data": {
      "text/html": [
       "<style type=\"text/css\">\n",
       "</style>\n",
       "<table id=\"T_76621\">\n",
       "  <thead>\n",
       "    <tr>\n",
       "      <th id=\"T_76621_level0_col0\" class=\"col_heading level0 col0\" >ID</th>\n",
       "      <th id=\"T_76621_level0_col1\" class=\"col_heading level0 col1\" >DESC</th>\n",
       "    </tr>\n",
       "  </thead>\n",
       "  <tbody>\n",
       "    <tr>\n",
       "      <td id=\"T_76621_row0_col0\" class=\"data row0 col0\" >1</td>\n",
       "      <td id=\"T_76621_row0_col1\" class=\"data row0 col1\" >JAN</td>\n",
       "    </tr>\n",
       "    <tr>\n",
       "      <td id=\"T_76621_row1_col0\" class=\"data row1 col0\" >2</td>\n",
       "      <td id=\"T_76621_row1_col1\" class=\"data row1 col1\" >FEB</td>\n",
       "    </tr>\n",
       "    <tr>\n",
       "      <td id=\"T_76621_row2_col0\" class=\"data row2 col0\" >3</td>\n",
       "      <td id=\"T_76621_row2_col1\" class=\"data row2 col1\" >MAR</td>\n",
       "    </tr>\n",
       "    <tr>\n",
       "      <td id=\"T_76621_row3_col0\" class=\"data row3 col0\" >4</td>\n",
       "      <td id=\"T_76621_row3_col1\" class=\"data row3 col1\" >APR</td>\n",
       "    </tr>\n",
       "    <tr>\n",
       "      <td id=\"T_76621_row4_col0\" class=\"data row4 col0\" >5</td>\n",
       "      <td id=\"T_76621_row4_col1\" class=\"data row4 col1\" >MAY</td>\n",
       "    </tr>\n",
       "    <tr>\n",
       "      <td id=\"T_76621_row5_col0\" class=\"data row5 col0\" >6</td>\n",
       "      <td id=\"T_76621_row5_col1\" class=\"data row5 col1\" >JUN</td>\n",
       "    </tr>\n",
       "    <tr>\n",
       "      <td id=\"T_76621_row6_col0\" class=\"data row6 col0\" >7</td>\n",
       "      <td id=\"T_76621_row6_col1\" class=\"data row6 col1\" >JUL</td>\n",
       "    </tr>\n",
       "    <tr>\n",
       "      <td id=\"T_76621_row7_col0\" class=\"data row7 col0\" >8</td>\n",
       "      <td id=\"T_76621_row7_col1\" class=\"data row7 col1\" >AUG</td>\n",
       "    </tr>\n",
       "    <tr>\n",
       "      <td id=\"T_76621_row8_col0\" class=\"data row8 col0\" >9</td>\n",
       "      <td id=\"T_76621_row8_col1\" class=\"data row8 col1\" >SEP</td>\n",
       "    </tr>\n",
       "    <tr>\n",
       "      <td id=\"T_76621_row9_col0\" class=\"data row9 col0\" >10</td>\n",
       "      <td id=\"T_76621_row9_col1\" class=\"data row9 col1\" >OCT</td>\n",
       "    </tr>\n",
       "    <tr>\n",
       "      <td id=\"T_76621_row10_col0\" class=\"data row10 col0\" >11</td>\n",
       "      <td id=\"T_76621_row10_col1\" class=\"data row10 col1\" >NOV</td>\n",
       "    </tr>\n",
       "    <tr>\n",
       "      <td id=\"T_76621_row11_col0\" class=\"data row11 col0\" >12</td>\n",
       "      <td id=\"T_76621_row11_col1\" class=\"data row11 col1\" >DEC</td>\n",
       "    </tr>\n",
       "  </tbody>\n",
       "</table>\n"
      ],
      "text/plain": [
       "<pandas.io.formats.style.Styler at 0x1241343d0>"
      ]
     },
     "metadata": {},
     "output_type": "display_data"
    }
   ],
   "source": [
    "# display(months_df)\n",
    "\n",
    "# Commenting above one to compare for the clarity of the output by removing the pandas index from the output\n",
    "display(months_df.style.hide(axis='index'))\n"
   ]
  },
  {
   "cell_type": "code",
   "execution_count": 166,
   "id": "8ac6ea30",
   "metadata": {},
   "outputs": [
    {
     "name": "stderr",
     "output_type": "stream",
     "text": [
      "100%|██████████| 1/1 [00:00<00:00,  1.80it/s]\n"
     ]
    }
   ],
   "source": [
    "months_hdf = hdf.create_dataframe_from_pandas(connection_context=myconn,\n",
    "                                              pandas_df=months_df,\n",
    "                                              table_name='MONTHS',\n",
    "                                              primary_key='ID',\n",
    "                                              force=True\n",
    "                                              )\n"
   ]
  },
  {
   "cell_type": "code",
   "execution_count": 167,
   "id": "ced63bd3",
   "metadata": {},
   "outputs": [
    {
     "data": {
      "text/plain": [
       "hana_ml.dataframe.DataFrame"
      ]
     },
     "execution_count": 167,
     "metadata": {},
     "output_type": "execute_result"
    }
   ],
   "source": [
    "type(months_hdf)\n"
   ]
  },
  {
   "cell_type": "code",
   "execution_count": 168,
   "id": "731c4d89",
   "metadata": {},
   "outputs": [
    {
     "name": "stdout",
     "output_type": "stream",
     "text": [
      "SELECT * FROM \"MONTHS\"\n"
     ]
    }
   ],
   "source": [
    "print(months_hdf.select_statement)\n"
   ]
  },
  {
   "cell_type": "code",
   "execution_count": 169,
   "id": "7d8af35f",
   "metadata": {},
   "outputs": [
    {
     "name": "stdout",
     "output_type": "stream",
     "text": [
      "All 12 records : [(1, 'JAN'), (2, 'FEB'), (3, 'MAR'), (4, 'APR'), (5, 'MAY'), (6, 'JUN'), (7, 'JUL'), (8, 'AUG'), (9, 'SEP'), (10, 'OCT'), (11, 'NOV'), (12, 'DEC')]\n"
     ]
    }
   ],
   "source": [
    "mycursor.execute(months_hdf.select_statement)\n",
    "\n",
    "# Get all records\n",
    "result = mycursor.fetchall()\n",
    "\n",
    "# Display returned records\n",
    "print(f\"All {len(result)} records : {result}\")\n"
   ]
  },
  {
   "cell_type": "code",
   "execution_count": 170,
   "id": "53e1f39c",
   "metadata": {},
   "outputs": [
    {
     "data": {
      "text/html": [
       "<div>\n",
       "<style scoped>\n",
       "    .dataframe tbody tr th:only-of-type {\n",
       "        vertical-align: middle;\n",
       "    }\n",
       "\n",
       "    .dataframe tbody tr th {\n",
       "        vertical-align: top;\n",
       "    }\n",
       "\n",
       "    .dataframe thead th {\n",
       "        text-align: right;\n",
       "    }\n",
       "</style>\n",
       "<table border=\"1\" class=\"dataframe\">\n",
       "  <thead>\n",
       "    <tr style=\"text-align: right;\">\n",
       "      <th></th>\n",
       "      <th>ID</th>\n",
       "      <th>DESC</th>\n",
       "    </tr>\n",
       "  </thead>\n",
       "  <tbody>\n",
       "    <tr>\n",
       "      <th>0</th>\n",
       "      <td>1</td>\n",
       "      <td>JAN</td>\n",
       "    </tr>\n",
       "    <tr>\n",
       "      <th>1</th>\n",
       "      <td>2</td>\n",
       "      <td>FEB</td>\n",
       "    </tr>\n",
       "    <tr>\n",
       "      <th>2</th>\n",
       "      <td>3</td>\n",
       "      <td>MAR</td>\n",
       "    </tr>\n",
       "    <tr>\n",
       "      <th>3</th>\n",
       "      <td>4</td>\n",
       "      <td>APR</td>\n",
       "    </tr>\n",
       "    <tr>\n",
       "      <th>4</th>\n",
       "      <td>5</td>\n",
       "      <td>MAY</td>\n",
       "    </tr>\n",
       "    <tr>\n",
       "      <th>5</th>\n",
       "      <td>6</td>\n",
       "      <td>JUN</td>\n",
       "    </tr>\n",
       "    <tr>\n",
       "      <th>6</th>\n",
       "      <td>7</td>\n",
       "      <td>JUL</td>\n",
       "    </tr>\n",
       "    <tr>\n",
       "      <th>7</th>\n",
       "      <td>8</td>\n",
       "      <td>AUG</td>\n",
       "    </tr>\n",
       "    <tr>\n",
       "      <th>8</th>\n",
       "      <td>9</td>\n",
       "      <td>SEP</td>\n",
       "    </tr>\n",
       "    <tr>\n",
       "      <th>9</th>\n",
       "      <td>10</td>\n",
       "      <td>OCT</td>\n",
       "    </tr>\n",
       "    <tr>\n",
       "      <th>10</th>\n",
       "      <td>11</td>\n",
       "      <td>NOV</td>\n",
       "    </tr>\n",
       "    <tr>\n",
       "      <th>11</th>\n",
       "      <td>12</td>\n",
       "      <td>DEC</td>\n",
       "    </tr>\n",
       "  </tbody>\n",
       "</table>\n",
       "</div>"
      ],
      "text/plain": [
       "    ID DESC\n",
       "0    1  JAN\n",
       "1    2  FEB\n",
       "2    3  MAR\n",
       "3    4  APR\n",
       "4    5  MAY\n",
       "5    6  JUN\n",
       "6    7  JUL\n",
       "7    8  AUG\n",
       "8    9  SEP\n",
       "9   10  OCT\n",
       "10  11  NOV\n",
       "11  12  DEC"
      ]
     },
     "execution_count": 170,
     "metadata": {},
     "output_type": "execute_result"
    }
   ],
   "source": [
    "months_hdf.collect()\n"
   ]
  },
  {
   "cell_type": "code",
   "execution_count": 171,
   "id": "acec3d7b",
   "metadata": {},
   "outputs": [
    {
     "data": {
      "text/plain": [
       "pandas.core.frame.DataFrame"
      ]
     },
     "execution_count": 171,
     "metadata": {},
     "output_type": "execute_result"
    }
   ],
   "source": [
    "type(months_hdf.collect())\n"
   ]
  },
  {
   "attachments": {},
   "cell_type": "markdown",
   "id": "9626cd91",
   "metadata": {},
   "source": [
    "## Using `hana-ml` approach to load data from a CSV file (or any other file Pandas can read)"
   ]
  },
  {
   "cell_type": "code",
   "execution_count": 172,
   "id": "39921d1d",
   "metadata": {},
   "outputs": [],
   "source": [
    "url = \"https://raw.githubusercontent.com/SAP-samples/hana-ml-samples/main/Python-API/pal/datasets/bike.csv\"\n",
    "bikes_df = pd.io.parsers.read_csv(url)\n"
   ]
  },
  {
   "cell_type": "code",
   "execution_count": 173,
   "id": "5154036c",
   "metadata": {},
   "outputs": [
    {
     "data": {
      "text/html": [
       "<div>\n",
       "<style scoped>\n",
       "    .dataframe tbody tr th:only-of-type {\n",
       "        vertical-align: middle;\n",
       "    }\n",
       "\n",
       "    .dataframe tbody tr th {\n",
       "        vertical-align: top;\n",
       "    }\n",
       "\n",
       "    .dataframe thead th {\n",
       "        text-align: right;\n",
       "    }\n",
       "</style>\n",
       "<table border=\"1\" class=\"dataframe\">\n",
       "  <thead>\n",
       "    <tr style=\"text-align: right;\">\n",
       "      <th></th>\n",
       "      <th>season</th>\n",
       "      <th>yr</th>\n",
       "      <th>mnth</th>\n",
       "      <th>holiday</th>\n",
       "      <th>weekday</th>\n",
       "      <th>workingday</th>\n",
       "      <th>weathersit</th>\n",
       "      <th>temp</th>\n",
       "      <th>hum</th>\n",
       "      <th>windspeed</th>\n",
       "      <th>cnt</th>\n",
       "      <th>days_since_2011</th>\n",
       "    </tr>\n",
       "  </thead>\n",
       "  <tbody>\n",
       "    <tr>\n",
       "      <th>0</th>\n",
       "      <td>WINTER</td>\n",
       "      <td>2011</td>\n",
       "      <td>JAN</td>\n",
       "      <td>NO HOLIDAY</td>\n",
       "      <td>SAT</td>\n",
       "      <td>NO WORKING DAY</td>\n",
       "      <td>MISTY</td>\n",
       "      <td>8.175849</td>\n",
       "      <td>80.5833</td>\n",
       "      <td>10.749882</td>\n",
       "      <td>985</td>\n",
       "      <td>0</td>\n",
       "    </tr>\n",
       "    <tr>\n",
       "      <th>1</th>\n",
       "      <td>WINTER</td>\n",
       "      <td>2011</td>\n",
       "      <td>JAN</td>\n",
       "      <td>NO HOLIDAY</td>\n",
       "      <td>SUN</td>\n",
       "      <td>NO WORKING DAY</td>\n",
       "      <td>MISTY</td>\n",
       "      <td>9.083466</td>\n",
       "      <td>69.6087</td>\n",
       "      <td>16.652113</td>\n",
       "      <td>801</td>\n",
       "      <td>1</td>\n",
       "    </tr>\n",
       "    <tr>\n",
       "      <th>2</th>\n",
       "      <td>WINTER</td>\n",
       "      <td>2011</td>\n",
       "      <td>JAN</td>\n",
       "      <td>NO HOLIDAY</td>\n",
       "      <td>MON</td>\n",
       "      <td>WORKING DAY</td>\n",
       "      <td>GOOD</td>\n",
       "      <td>1.229108</td>\n",
       "      <td>43.7273</td>\n",
       "      <td>16.636703</td>\n",
       "      <td>1349</td>\n",
       "      <td>2</td>\n",
       "    </tr>\n",
       "    <tr>\n",
       "      <th>3</th>\n",
       "      <td>WINTER</td>\n",
       "      <td>2011</td>\n",
       "      <td>JAN</td>\n",
       "      <td>NO HOLIDAY</td>\n",
       "      <td>TUE</td>\n",
       "      <td>WORKING DAY</td>\n",
       "      <td>GOOD</td>\n",
       "      <td>1.400000</td>\n",
       "      <td>59.0435</td>\n",
       "      <td>10.739832</td>\n",
       "      <td>1562</td>\n",
       "      <td>3</td>\n",
       "    </tr>\n",
       "    <tr>\n",
       "      <th>4</th>\n",
       "      <td>WINTER</td>\n",
       "      <td>2011</td>\n",
       "      <td>JAN</td>\n",
       "      <td>NO HOLIDAY</td>\n",
       "      <td>WED</td>\n",
       "      <td>WORKING DAY</td>\n",
       "      <td>GOOD</td>\n",
       "      <td>2.666979</td>\n",
       "      <td>43.6957</td>\n",
       "      <td>12.522300</td>\n",
       "      <td>1600</td>\n",
       "      <td>4</td>\n",
       "    </tr>\n",
       "    <tr>\n",
       "      <th>...</th>\n",
       "      <td>...</td>\n",
       "      <td>...</td>\n",
       "      <td>...</td>\n",
       "      <td>...</td>\n",
       "      <td>...</td>\n",
       "      <td>...</td>\n",
       "      <td>...</td>\n",
       "      <td>...</td>\n",
       "      <td>...</td>\n",
       "      <td>...</td>\n",
       "      <td>...</td>\n",
       "      <td>...</td>\n",
       "    </tr>\n",
       "    <tr>\n",
       "      <th>726</th>\n",
       "      <td>WINTER</td>\n",
       "      <td>2012</td>\n",
       "      <td>DEC</td>\n",
       "      <td>NO HOLIDAY</td>\n",
       "      <td>THU</td>\n",
       "      <td>WORKING DAY</td>\n",
       "      <td>MISTY</td>\n",
       "      <td>3.945849</td>\n",
       "      <td>65.2917</td>\n",
       "      <td>23.458911</td>\n",
       "      <td>2114</td>\n",
       "      <td>726</td>\n",
       "    </tr>\n",
       "    <tr>\n",
       "      <th>727</th>\n",
       "      <td>WINTER</td>\n",
       "      <td>2012</td>\n",
       "      <td>DEC</td>\n",
       "      <td>NO HOLIDAY</td>\n",
       "      <td>FRI</td>\n",
       "      <td>WORKING DAY</td>\n",
       "      <td>MISTY</td>\n",
       "      <td>3.906651</td>\n",
       "      <td>59.0000</td>\n",
       "      <td>10.416557</td>\n",
       "      <td>3095</td>\n",
       "      <td>727</td>\n",
       "    </tr>\n",
       "    <tr>\n",
       "      <th>728</th>\n",
       "      <td>WINTER</td>\n",
       "      <td>2012</td>\n",
       "      <td>DEC</td>\n",
       "      <td>NO HOLIDAY</td>\n",
       "      <td>SAT</td>\n",
       "      <td>NO WORKING DAY</td>\n",
       "      <td>MISTY</td>\n",
       "      <td>3.906651</td>\n",
       "      <td>75.2917</td>\n",
       "      <td>8.333661</td>\n",
       "      <td>1341</td>\n",
       "      <td>728</td>\n",
       "    </tr>\n",
       "    <tr>\n",
       "      <th>729</th>\n",
       "      <td>WINTER</td>\n",
       "      <td>2012</td>\n",
       "      <td>DEC</td>\n",
       "      <td>NO HOLIDAY</td>\n",
       "      <td>SUN</td>\n",
       "      <td>NO WORKING DAY</td>\n",
       "      <td>GOOD</td>\n",
       "      <td>4.024151</td>\n",
       "      <td>48.3333</td>\n",
       "      <td>23.500518</td>\n",
       "      <td>1796</td>\n",
       "      <td>729</td>\n",
       "    </tr>\n",
       "    <tr>\n",
       "      <th>730</th>\n",
       "      <td>WINTER</td>\n",
       "      <td>2012</td>\n",
       "      <td>DEC</td>\n",
       "      <td>NO HOLIDAY</td>\n",
       "      <td>MON</td>\n",
       "      <td>WORKING DAY</td>\n",
       "      <td>MISTY</td>\n",
       "      <td>2.144151</td>\n",
       "      <td>57.7500</td>\n",
       "      <td>10.374682</td>\n",
       "      <td>2729</td>\n",
       "      <td>730</td>\n",
       "    </tr>\n",
       "  </tbody>\n",
       "</table>\n",
       "<p>731 rows × 12 columns</p>\n",
       "</div>"
      ],
      "text/plain": [
       "     season    yr mnth     holiday weekday      workingday weathersit  \\\n",
       "0    WINTER  2011  JAN  NO HOLIDAY     SAT  NO WORKING DAY      MISTY   \n",
       "1    WINTER  2011  JAN  NO HOLIDAY     SUN  NO WORKING DAY      MISTY   \n",
       "2    WINTER  2011  JAN  NO HOLIDAY     MON     WORKING DAY       GOOD   \n",
       "3    WINTER  2011  JAN  NO HOLIDAY     TUE     WORKING DAY       GOOD   \n",
       "4    WINTER  2011  JAN  NO HOLIDAY     WED     WORKING DAY       GOOD   \n",
       "..      ...   ...  ...         ...     ...             ...        ...   \n",
       "726  WINTER  2012  DEC  NO HOLIDAY     THU     WORKING DAY      MISTY   \n",
       "727  WINTER  2012  DEC  NO HOLIDAY     FRI     WORKING DAY      MISTY   \n",
       "728  WINTER  2012  DEC  NO HOLIDAY     SAT  NO WORKING DAY      MISTY   \n",
       "729  WINTER  2012  DEC  NO HOLIDAY     SUN  NO WORKING DAY       GOOD   \n",
       "730  WINTER  2012  DEC  NO HOLIDAY     MON     WORKING DAY      MISTY   \n",
       "\n",
       "         temp      hum  windspeed   cnt  days_since_2011  \n",
       "0    8.175849  80.5833  10.749882   985                0  \n",
       "1    9.083466  69.6087  16.652113   801                1  \n",
       "2    1.229108  43.7273  16.636703  1349                2  \n",
       "3    1.400000  59.0435  10.739832  1562                3  \n",
       "4    2.666979  43.6957  12.522300  1600                4  \n",
       "..        ...      ...        ...   ...              ...  \n",
       "726  3.945849  65.2917  23.458911  2114              726  \n",
       "727  3.906651  59.0000  10.416557  3095              727  \n",
       "728  3.906651  75.2917   8.333661  1341              728  \n",
       "729  4.024151  48.3333  23.500518  1796              729  \n",
       "730  2.144151  57.7500  10.374682  2729              730  \n",
       "\n",
       "[731 rows x 12 columns]"
      ]
     },
     "metadata": {},
     "output_type": "display_data"
    }
   ],
   "source": [
    "display(bikes_df)\n"
   ]
  },
  {
   "cell_type": "code",
   "execution_count": 174,
   "id": "1e0fd44c",
   "metadata": {},
   "outputs": [
    {
     "name": "stderr",
     "output_type": "stream",
     "text": [
      "100%|██████████| 1/1 [00:00<00:00,  1.06it/s]\n"
     ]
    }
   ],
   "source": [
    "bikes_hdf = hdf.create_dataframe_from_pandas(connection_context=myconn,\n",
    "                                             pandas_df=bikes_df,\n",
    "                                             table_name='BIKES',\n",
    "                                             primary_key='day_since_2011',\n",
    "                                             force=True\n",
    "                                             )\n"
   ]
  },
  {
   "cell_type": "code",
   "execution_count": 175,
   "id": "c935a7ea",
   "metadata": {},
   "outputs": [
    {
     "data": {
      "text/plain": [
       "hana_ml.dataframe.DataFrame"
      ]
     },
     "execution_count": 175,
     "metadata": {},
     "output_type": "execute_result"
    }
   ],
   "source": [
    "type(bikes_hdf)\n"
   ]
  },
  {
   "cell_type": "code",
   "execution_count": 176,
   "id": "4ee94882",
   "metadata": {},
   "outputs": [
    {
     "name": "stdout",
     "output_type": "stream",
     "text": [
      "SELECT * FROM \"BIKES\"\n"
     ]
    }
   ],
   "source": [
    "print(bikes_hdf.select_statement)\n"
   ]
  },
  {
   "cell_type": "code",
   "execution_count": 177,
   "id": "42156020",
   "metadata": {},
   "outputs": [
    {
     "data": {
      "text/html": [
       "<div>\n",
       "<style scoped>\n",
       "    .dataframe tbody tr th:only-of-type {\n",
       "        vertical-align: middle;\n",
       "    }\n",
       "\n",
       "    .dataframe tbody tr th {\n",
       "        vertical-align: top;\n",
       "    }\n",
       "\n",
       "    .dataframe thead th {\n",
       "        text-align: right;\n",
       "    }\n",
       "</style>\n",
       "<table border=\"1\" class=\"dataframe\">\n",
       "  <thead>\n",
       "    <tr style=\"text-align: right;\">\n",
       "      <th></th>\n",
       "      <th>season</th>\n",
       "      <th>yr</th>\n",
       "      <th>mnth</th>\n",
       "      <th>holiday</th>\n",
       "      <th>weekday</th>\n",
       "      <th>workingday</th>\n",
       "      <th>weathersit</th>\n",
       "      <th>temp</th>\n",
       "      <th>hum</th>\n",
       "      <th>windspeed</th>\n",
       "      <th>cnt</th>\n",
       "      <th>days_since_2011</th>\n",
       "    </tr>\n",
       "  </thead>\n",
       "  <tbody>\n",
       "    <tr>\n",
       "      <th>0</th>\n",
       "      <td>WINTER</td>\n",
       "      <td>2011</td>\n",
       "      <td>JAN</td>\n",
       "      <td>NO HOLIDAY</td>\n",
       "      <td>SAT</td>\n",
       "      <td>NO WORKING DAY</td>\n",
       "      <td>MISTY</td>\n",
       "      <td>8.175849</td>\n",
       "      <td>80.5833</td>\n",
       "      <td>10.749882</td>\n",
       "      <td>985</td>\n",
       "      <td>0</td>\n",
       "    </tr>\n",
       "    <tr>\n",
       "      <th>1</th>\n",
       "      <td>WINTER</td>\n",
       "      <td>2011</td>\n",
       "      <td>JAN</td>\n",
       "      <td>NO HOLIDAY</td>\n",
       "      <td>SUN</td>\n",
       "      <td>NO WORKING DAY</td>\n",
       "      <td>MISTY</td>\n",
       "      <td>9.083466</td>\n",
       "      <td>69.6087</td>\n",
       "      <td>16.652113</td>\n",
       "      <td>801</td>\n",
       "      <td>1</td>\n",
       "    </tr>\n",
       "    <tr>\n",
       "      <th>2</th>\n",
       "      <td>WINTER</td>\n",
       "      <td>2011</td>\n",
       "      <td>JAN</td>\n",
       "      <td>NO HOLIDAY</td>\n",
       "      <td>MON</td>\n",
       "      <td>WORKING DAY</td>\n",
       "      <td>GOOD</td>\n",
       "      <td>1.229108</td>\n",
       "      <td>43.7273</td>\n",
       "      <td>16.636703</td>\n",
       "      <td>1349</td>\n",
       "      <td>2</td>\n",
       "    </tr>\n",
       "    <tr>\n",
       "      <th>3</th>\n",
       "      <td>WINTER</td>\n",
       "      <td>2011</td>\n",
       "      <td>JAN</td>\n",
       "      <td>NO HOLIDAY</td>\n",
       "      <td>TUE</td>\n",
       "      <td>WORKING DAY</td>\n",
       "      <td>GOOD</td>\n",
       "      <td>1.400000</td>\n",
       "      <td>59.0435</td>\n",
       "      <td>10.739832</td>\n",
       "      <td>1562</td>\n",
       "      <td>3</td>\n",
       "    </tr>\n",
       "    <tr>\n",
       "      <th>4</th>\n",
       "      <td>WINTER</td>\n",
       "      <td>2011</td>\n",
       "      <td>JAN</td>\n",
       "      <td>NO HOLIDAY</td>\n",
       "      <td>WED</td>\n",
       "      <td>WORKING DAY</td>\n",
       "      <td>GOOD</td>\n",
       "      <td>2.666979</td>\n",
       "      <td>43.6957</td>\n",
       "      <td>12.522300</td>\n",
       "      <td>1600</td>\n",
       "      <td>4</td>\n",
       "    </tr>\n",
       "    <tr>\n",
       "      <th>5</th>\n",
       "      <td>WINTER</td>\n",
       "      <td>2011</td>\n",
       "      <td>JAN</td>\n",
       "      <td>NO HOLIDAY</td>\n",
       "      <td>THU</td>\n",
       "      <td>WORKING DAY</td>\n",
       "      <td>GOOD</td>\n",
       "      <td>1.604356</td>\n",
       "      <td>51.8261</td>\n",
       "      <td>6.000868</td>\n",
       "      <td>1606</td>\n",
       "      <td>5</td>\n",
       "    </tr>\n",
       "    <tr>\n",
       "      <th>6</th>\n",
       "      <td>WINTER</td>\n",
       "      <td>2011</td>\n",
       "      <td>JAN</td>\n",
       "      <td>NO HOLIDAY</td>\n",
       "      <td>FRI</td>\n",
       "      <td>WORKING DAY</td>\n",
       "      <td>MISTY</td>\n",
       "      <td>1.236534</td>\n",
       "      <td>49.8696</td>\n",
       "      <td>11.304642</td>\n",
       "      <td>1510</td>\n",
       "      <td>6</td>\n",
       "    </tr>\n",
       "    <tr>\n",
       "      <th>7</th>\n",
       "      <td>WINTER</td>\n",
       "      <td>2011</td>\n",
       "      <td>JAN</td>\n",
       "      <td>NO HOLIDAY</td>\n",
       "      <td>SAT</td>\n",
       "      <td>NO WORKING DAY</td>\n",
       "      <td>MISTY</td>\n",
       "      <td>-0.245000</td>\n",
       "      <td>53.5833</td>\n",
       "      <td>17.875868</td>\n",
       "      <td>959</td>\n",
       "      <td>7</td>\n",
       "    </tr>\n",
       "    <tr>\n",
       "      <th>8</th>\n",
       "      <td>WINTER</td>\n",
       "      <td>2011</td>\n",
       "      <td>JAN</td>\n",
       "      <td>NO HOLIDAY</td>\n",
       "      <td>SUN</td>\n",
       "      <td>NO WORKING DAY</td>\n",
       "      <td>GOOD</td>\n",
       "      <td>-1.498349</td>\n",
       "      <td>43.4167</td>\n",
       "      <td>24.250650</td>\n",
       "      <td>822</td>\n",
       "      <td>8</td>\n",
       "    </tr>\n",
       "    <tr>\n",
       "      <th>9</th>\n",
       "      <td>WINTER</td>\n",
       "      <td>2011</td>\n",
       "      <td>JAN</td>\n",
       "      <td>NO HOLIDAY</td>\n",
       "      <td>MON</td>\n",
       "      <td>WORKING DAY</td>\n",
       "      <td>GOOD</td>\n",
       "      <td>-0.910849</td>\n",
       "      <td>48.2917</td>\n",
       "      <td>14.958889</td>\n",
       "      <td>1321</td>\n",
       "      <td>9</td>\n",
       "    </tr>\n",
       "  </tbody>\n",
       "</table>\n",
       "</div>"
      ],
      "text/plain": [
       "   season    yr mnth     holiday weekday      workingday weathersit      temp  \\\n",
       "0  WINTER  2011  JAN  NO HOLIDAY     SAT  NO WORKING DAY      MISTY  8.175849   \n",
       "1  WINTER  2011  JAN  NO HOLIDAY     SUN  NO WORKING DAY      MISTY  9.083466   \n",
       "2  WINTER  2011  JAN  NO HOLIDAY     MON     WORKING DAY       GOOD  1.229108   \n",
       "3  WINTER  2011  JAN  NO HOLIDAY     TUE     WORKING DAY       GOOD  1.400000   \n",
       "4  WINTER  2011  JAN  NO HOLIDAY     WED     WORKING DAY       GOOD  2.666979   \n",
       "5  WINTER  2011  JAN  NO HOLIDAY     THU     WORKING DAY       GOOD  1.604356   \n",
       "6  WINTER  2011  JAN  NO HOLIDAY     FRI     WORKING DAY      MISTY  1.236534   \n",
       "7  WINTER  2011  JAN  NO HOLIDAY     SAT  NO WORKING DAY      MISTY -0.245000   \n",
       "8  WINTER  2011  JAN  NO HOLIDAY     SUN  NO WORKING DAY       GOOD -1.498349   \n",
       "9  WINTER  2011  JAN  NO HOLIDAY     MON     WORKING DAY       GOOD -0.910849   \n",
       "\n",
       "       hum  windspeed   cnt  days_since_2011  \n",
       "0  80.5833  10.749882   985                0  \n",
       "1  69.6087  16.652113   801                1  \n",
       "2  43.7273  16.636703  1349                2  \n",
       "3  59.0435  10.739832  1562                3  \n",
       "4  43.6957  12.522300  1600                4  \n",
       "5  51.8261   6.000868  1606                5  \n",
       "6  49.8696  11.304642  1510                6  \n",
       "7  53.5833  17.875868   959                7  \n",
       "8  43.4167  24.250650   822                8  \n",
       "9  48.2917  14.958889  1321                9  "
      ]
     },
     "execution_count": 177,
     "metadata": {},
     "output_type": "execute_result"
    }
   ],
   "source": [
    "bikes_hdf.collect().head(n=10)\n"
   ]
  },
  {
   "cell_type": "code",
   "execution_count": 178,
   "id": "a347c052",
   "metadata": {},
   "outputs": [
    {
     "data": {
      "text/plain": [
       "['WINTER', 'SPRING', 'SUMMER', 'FALL']"
      ]
     },
     "execution_count": 178,
     "metadata": {},
     "output_type": "execute_result"
    }
   ],
   "source": [
    "bikes_hdf.collect()[\"season\"].unique().tolist()\n"
   ]
  },
  {
   "cell_type": "code",
   "execution_count": null,
   "id": "6083b333",
   "metadata": {},
   "outputs": [],
   "source": []
  }
 ],
 "metadata": {
  "kernelspec": {
   "display_name": "Python 3",
   "language": "python",
   "name": "python3"
  },
  "language_info": {
   "codemirror_mode": {
    "name": "ipython",
    "version": 3
   },
   "file_extension": ".py",
   "mimetype": "text/x-python",
   "name": "python",
   "nbconvert_exporter": "python",
   "pygments_lexer": "ipython3",
   "version": "3.11.2"
  },
  "vscode": {
   "interpreter": {
    "hash": "aee8b7b246df8f9039afb4144a1f6fd8d2ca17a180786b69acc140d282b71a49"
   }
  }
 },
 "nbformat": 4,
 "nbformat_minor": 5
}
