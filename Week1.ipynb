{
 "cells": [
  {
   "cell_type": "markdown",
   "id": "51185e33-47ce-455b-b392-531cbf1b93fa",
   "metadata": {},
   "source": [
    "## Welcome to Week 1"
   ]
  },
  {
   "cell_type": "markdown",
   "id": "8fe13522-e219-417d-915f-93612d450b40",
   "metadata": {},
   "source": [
    "### Check a version of Python\n",
    "\n",
    "The version of Python should be between 3.7 and 3.10 inclusive."
   ]
  },
  {
   "cell_type": "code",
   "execution_count": 3,
   "id": "58f7ef2a-676e-4ef8-aa63-04dbdf8d7b0c",
   "metadata": {},
   "outputs": [
    {
     "name": "stdout",
     "output_type": "stream",
     "text": [
      "Python 3.11.2\n"
     ]
    }
   ],
   "source": [
    "!python3 -V"
   ]
  },
  {
   "cell_type": "markdown",
   "id": "7fb31a18-42cd-4929-9e33-ac6c2713ae36",
   "metadata": {},
   "source": [
    "### Check required packages\n",
    "\n",
    "The version of the package `hana_ml` should be at minimum 2.15"
   ]
  },
  {
   "cell_type": "code",
   "execution_count": 4,
   "id": "bc49d450-e627-4c08-9343-1c158e33305c",
   "metadata": {},
   "outputs": [
    {
     "name": "stderr",
     "output_type": "stream",
     "text": [
      "ModuleNotFoundError: No module named 'shapely'\n"
     ]
    },
    {
     "name": "stdout",
     "output_type": "stream",
     "text": [
      "The package version:  2.16.23032300\n"
     ]
    }
   ],
   "source": [
    "import hana_ml\n",
    "print(\"The package version: \", hana_ml.__version__)"
   ]
  },
  {
   "cell_type": "markdown",
   "id": "32f61769-8a9b-4cf6-97ff-f9920486fa13",
   "metadata": {},
   "source": [
    "### Import required packages\n",
    "\n",
    "There should be no error messages after the execution of the cell below"
   ]
  },
  {
   "cell_type": "code",
   "execution_count": 6,
   "id": "524e1912-75f4-4914-83b1-f4dbcfdb27f4",
   "metadata": {},
   "outputs": [],
   "source": [
    "from hana_ml import dataframe as hdf"
   ]
  },
  {
   "cell_type": "markdown",
   "id": "d10707dd-87c9-4012-835b-c3b07260ed4d",
   "metadata": {},
   "source": [
    "### Connect to SAP HANA database instance with a database user\n",
    "\n",
    "If the connection is successful, then you should see the version of the SAP HANA database instance your user is connected to.\n",
    "\n",
    "Please note that the command used in this cell requires a user key `DevChallenger` created in the SAP HANA Client's user store on your client.\n",
    "\n",
    "If the user key you have created is different than `DevChallenger`, then replace the **`userkey`** value in the command with your value."
   ]
  },
  {
   "cell_type": "code",
   "execution_count": 7,
   "id": "675fa598-247a-4854-a150-110d3f93d597",
   "metadata": {},
   "outputs": [
    {
     "name": "stdout",
     "output_type": "stream",
     "text": [
      "SAP HANA DB version:  4.00.000.00.1679387658 (fa/CE2022.42)\n"
     ]
    }
   ],
   "source": [
    "myconn=hdf.ConnectionContext(userkey='DevChallenger')\n",
    "print(\"SAP HANA DB version: \", myconn.hana_version())"
   ]
  },
  {
   "cell_type": "code",
   "execution_count": null,
   "id": "5e8916a1-6265-41bc-9e34-90756238d64e",
   "metadata": {},
   "outputs": [],
   "source": []
  }
 ],
 "metadata": {
  "kernelspec": {
   "display_name": "Python 3",
   "language": "python",
   "name": "python3"
  },
  "language_info": {
   "codemirror_mode": {
    "name": "ipython",
    "version": 3
   },
   "file_extension": ".py",
   "mimetype": "text/x-python",
   "name": "python",
   "nbconvert_exporter": "python",
   "pygments_lexer": "ipython3",
   "version": "3.11.2"
  },
  "vscode": {
   "interpreter": {
    "hash": "aee8b7b246df8f9039afb4144a1f6fd8d2ca17a180786b69acc140d282b71a49"
   }
  }
 },
 "nbformat": 4,
 "nbformat_minor": 5
}
